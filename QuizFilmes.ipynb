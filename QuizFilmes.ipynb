{
  "nbformat": 4,
  "nbformat_minor": 0,
  "metadata": {
    "colab": {
      "provenance": [],
      "authorship_tag": "ABX9TyNKmLfQD0047Ox7yVDM3iiG",
      "include_colab_link": true
    },
    "kernelspec": {
      "name": "python3",
      "display_name": "Python 3"
    },
    "language_info": {
      "name": "python"
    }
  },
  "cells": [
    {
      "cell_type": "markdown",
      "metadata": {
        "id": "view-in-github",
        "colab_type": "text"
      },
      "source": [
        "<a href=\"https://colab.research.google.com/github/GuilhermeJobs/Quiz-de-Filmes-no-Colab/blob/main/QuizFilmes.ipynb\" target=\"_parent\"><img src=\"https://colab.research.google.com/assets/colab-badge.svg\" alt=\"Open In Colab\"/></a>"
      ]
    },
    {
      "cell_type": "markdown",
      "source": [
        "Quiz de Filmes\n",
        "\n",
        "by Guilherme Ferreira - 11/05/2024\n",
        "\n",
        "ferreiraguilherme@discente.ufg.br"
      ],
      "metadata": {
        "id": "Wrvc-cFpJTVF"
      }
    },
    {
      "cell_type": "code",
      "execution_count": 134,
      "metadata": {
        "id": "EelrhfTEJPG_"
      },
      "outputs": [],
      "source": [
        "#Importanto bibliotecas\n",
        "import requests\n",
        "import random\n",
        "from IPython.display import clear_output"
      ]
    },
    {
      "cell_type": "code",
      "source": [
        "#Importanto arquivo de dados em json do github\n",
        "url = 'https://raw.githubusercontent.com/GuilhermeJobs/Quiz-de-Filmes-no-Colab/main/quizFilmes.json'\n",
        "baseRaw = requests.get(url)\n",
        "perguntasRespostas = baseRaw.json()\n",
        "#Verificar a quantidade de perguntas\n",
        "len(perguntasRespostas)"
      ],
      "metadata": {
        "colab": {
          "base_uri": "https://localhost:8080/"
        },
        "id": "wBikoscDJhP5",
        "outputId": "527f5eb2-22ac-4d91-f835-23a4ce2b7378"
      },
      "execution_count": 135,
      "outputs": [
        {
          "output_type": "execute_result",
          "data": {
            "text/plain": [
              "20"
            ]
          },
          "metadata": {},
          "execution_count": 135
        }
      ]
    },
    {
      "cell_type": "code",
      "source": [
        "#Criando função para embaralhar as alternativas\n",
        "def embaralharAlternativas():\n",
        "  alternativas = [\n",
        "    questao['resposta'],\n",
        "    questao['Alternativa 2'],\n",
        "    questao['Alternativa 3'],\n",
        "    questao['Alternativa 4'],\n",
        "  ]\n",
        "\n",
        "  # Embaralha as alternativas\n",
        "  random.shuffle(alternativas)\n",
        "\n",
        "  return alternativas\n"
      ],
      "metadata": {
        "id": "BtI0mi2CXir-"
      },
      "execution_count": 136,
      "outputs": []
    },
    {
      "cell_type": "code",
      "source": [
        "#Criando função para somar os pontos\n",
        "def Somar(pontos):\n",
        "  pontos = pontos + 1\n",
        "  return pontos"
      ],
      "metadata": {
        "id": "lMe29fe7Y4ls"
      },
      "execution_count": 137,
      "outputs": []
    },
    {
      "cell_type": "code",
      "source": [
        "#Criando o quiz de filmes de 20 perguntas com quatro alternativa\n",
        "\n",
        "#arcerto inicial\n",
        "arcerto = 0\n",
        "#questoes\n",
        "que = 0\n",
        "#embaralhar as perguntas\n",
        "random.shuffle(perguntasRespostas)\n",
        "\n",
        "#escolher o a quantidade de questões\n",
        "quatidadePerguntas = input(\"Quantas perguntas quer tentar? [de 1 a 20]\\n\")\n",
        "\n",
        "quatidadePerguntas = int(quatidadePerguntas)\n",
        "clear_output()\n",
        "if quatidadePerguntas > 0:\n",
        "  for i in range(quatidadePerguntas):\n",
        "    questao = perguntasRespostas[i]\n",
        "    pergunta = questao['pergunta']\n",
        "    resposta = questao['resposta']\n",
        "\n",
        "    alternativas = embaralharAlternativas()\n",
        "\n",
        "    # Encontra a letra da resposta correta\n",
        "    letraCorreta = 'A'\n",
        "    for i, alternativa in enumerate(alternativas):\n",
        "        if alternativa == resposta:\n",
        "            letraCorreta = chr(ord('A') + i)\n",
        "            break\n",
        "\n",
        "    # Imprime a pergunta e as alternativas embaralhadas\n",
        "    que = que + 1\n",
        "    print(f\"{que}.  {pergunta} ({que}/{quatidadePerguntas})\")\n",
        "    print(f\"(A) {alternativas[0]}\")\n",
        "    print(f\"(B) {alternativas[1]}\")\n",
        "    print(f\"(C) {alternativas[2]}\")\n",
        "    print(f\"(D) {alternativas[3]}\")\n",
        "\n",
        "    alternativaEscolida = input(\"\\nSelecione apenas uma letra {A, B, C, D}: \")\n",
        "\n",
        "    # Verifica se a resposta está correta\n",
        "    clear_output()\n",
        "    if alternativaEscolida.upper() == letraCorreta:\n",
        "      #print(\"\\nAcertou!\")\n",
        "      arcerto = Somar(arcerto)\n",
        "    #else:\n",
        "      #print(f\"\\nErrou! A resposta correta é {letraCorreta}: {resposta}\")\n",
        "  # Exibe a pontuação final\n",
        "\n",
        "  print(f\"\\nVocê acertou {arcerto} questões de {quatidadePerguntas}!\")\n",
        "else:\n",
        "  print(\"Obrigado!\")\n"
      ],
      "metadata": {
        "colab": {
          "base_uri": "https://localhost:8080/"
        },
        "id": "kzB2w9pNRM5A",
        "outputId": "e5ee24f6-c18e-4e7e-822a-deb331176021"
      },
      "execution_count": 166,
      "outputs": [
        {
          "output_type": "stream",
          "name": "stdout",
          "text": [
            "\n",
            "Você acertou 1 questões de 1!\n"
          ]
        }
      ]
    }
  ]
}